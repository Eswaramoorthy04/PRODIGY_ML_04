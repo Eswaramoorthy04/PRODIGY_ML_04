{
  "nbformat": 4,
  "nbformat_minor": 0,
  "metadata": {
    "colab": {
      "provenance": [],
      "authorship_tag": "ABX9TyMk8Ome9V7xbNibfIR3p3u6",
      "include_colab_link": true
    },
    "kernelspec": {
      "name": "python3",
      "display_name": "Python 3"
    },
    "language_info": {
      "name": "python"
    }
  },
  "cells": [
    {
      "cell_type": "markdown",
      "metadata": {
        "id": "view-in-github",
        "colab_type": "text"
      },
      "source": [
        "<a href=\"https://colab.research.google.com/github/Eswaramoorthy04/PRODIGY_ML_04/blob/main/machine_learning_task_4.ipynb\" target=\"_parent\"><img src=\"https://colab.research.google.com/assets/colab-badge.svg\" alt=\"Open In Colab\"/></a>"
      ]
    },
    {
      "cell_type": "code",
      "execution_count": null,
      "metadata": {
        "id": "rPss0dnPhYG7",
        "colab": {
          "base_uri": "https://localhost:8080/"
        },
        "outputId": "e523061e-1e59-4217-b287-19ad3a900066"
      },
      "outputs": [
        {
          "output_type": "stream",
          "name": "stdout",
          "text": [
            "Downloading data from https://storage.googleapis.com/tensorflow/tf-keras-datasets/mnist.npz\n",
            "11490434/11490434 [==============================] - 0s 0us/step\n",
            "Epoch 1/10\n",
            "469/469 [==============================] - 64s 132ms/step - loss: 0.2349 - accuracy: 0.9286 - val_loss: 0.0679 - val_accuracy: 0.9795\n",
            "Epoch 2/10\n",
            "469/469 [==============================] - 45s 95ms/step - loss: 0.0615 - accuracy: 0.9815 - val_loss: 0.0426 - val_accuracy: 0.9851\n",
            "Epoch 3/10\n",
            "469/469 [==============================] - 44s 94ms/step - loss: 0.0440 - accuracy: 0.9869 - val_loss: 0.0316 - val_accuracy: 0.9889\n",
            "Epoch 4/10\n",
            "469/469 [==============================] - 44s 93ms/step - loss: 0.0337 - accuracy: 0.9895 - val_loss: 0.0398 - val_accuracy: 0.9866\n",
            "Epoch 5/10\n",
            "469/469 [==============================] - 49s 104ms/step - loss: 0.0294 - accuracy: 0.9905 - val_loss: 0.0260 - val_accuracy: 0.9915\n",
            "Epoch 6/10\n",
            "469/469 [==============================] - 45s 96ms/step - loss: 0.0228 - accuracy: 0.9926 - val_loss: 0.0282 - val_accuracy: 0.9914\n",
            "Epoch 7/10\n",
            "469/469 [==============================] - 49s 105ms/step - loss: 0.0185 - accuracy: 0.9941 - val_loss: 0.0313 - val_accuracy: 0.9900\n",
            "Epoch 8/10\n",
            "469/469 [==============================] - 43s 92ms/step - loss: 0.0155 - accuracy: 0.9950 - val_loss: 0.0294 - val_accuracy: 0.9908\n",
            "Epoch 9/10\n",
            "469/469 [==============================] - 42s 91ms/step - loss: 0.0128 - accuracy: 0.9961 - val_loss: 0.0378 - val_accuracy: 0.9887\n",
            "Epoch 10/10\n",
            "469/469 [==============================] - 44s 95ms/step - loss: 0.0106 - accuracy: 0.9964 - val_loss: 0.0336 - val_accuracy: 0.9901\n",
            "Test loss: 0.03358253836631775\n",
            "Test accuracy: 0.9901000261306763\n"
          ]
        }
      ],
      "source": [
        "import tensorflow as tf\n",
        "from tensorflow.keras.models import Sequential\n",
        "from tensorflow.keras.layers import Conv2D, MaxPooling2D, Flatten, Dense\n",
        "import cv2\n",
        "import numpy as np\n",
        "\n",
        "# Load the dataset\n",
        "(x_train, y_train), (x_test, y_test) = tf.keras.datasets.mnist.load_data()\n",
        "\n",
        "# Preprocess the data\n",
        "x_train = x_train.reshape(-1, 28, 28, 1)\n",
        "x_test = x_test.reshape(-1, 28, 28, 1)\n",
        "x_train = x_train.astype('float32') / 255\n",
        "x_test = x_test.astype('float32') / 255\n",
        "y_train = tf.keras.utils.to_categorical(y_train, 10)\n",
        "y_test = tf.keras.utils.to_categorical(y_test, 10)\n",
        "\n",
        "# Define the model architecture\n",
        "model = Sequential()\n",
        "model.add(Conv2D(32, kernel_size=(3, 3), activation='relu', input_shape=(28, 28, 1)))\n",
        "model.add(MaxPooling2D(pool_size=(2, 2)))\n",
        "model.add(Conv2D(64, kernel_size=(3, 3), activation='relu'))\n",
        "model.add(MaxPooling2D(pool_size=(2, 2)))\n",
        "model.add(Flatten())\n",
        "model.add(Dense(64, activation='relu'))\n",
        "model.add(Dense(10, activation='softmax'))\n",
        "\n",
        "# Compile the model\n",
        "model.compile(loss=tf.keras.losses.categorical_crossentropy,\n",
        "              optimizer=tf.keras.optimizers.Adam(),\n",
        "              metrics=['accuracy'])\n",
        "\n",
        "# Train the model\n",
        "model.fit(x_train, y_train,\n",
        "          batch_size=128,\n",
        "          epochs=10,\n",
        "          verbose=1,\n",
        "          validation_data=(x_test, y_test))\n",
        "\n",
        "# Test the model\n",
        "score = model.evaluate(x_test, y_test, verbose=0)\n",
        "print('Test loss:', score[0])\n",
        "print('Test accuracy:', score[1])\n",
        "\n",
        "# Real-time testing using a webcam\n",
        "def real_time_test():\n",
        "    cap = cv2.VideoCapture(0)\n",
        "    while True:\n",
        "        ret, frame = cap.read()\n",
        "        if not ret:\n",
        "            break\n",
        "        frame = cv2.resize(frame, (28, 28))\n",
        "        frame = cv2.cvtColor(frame, cv2.COLOR_BGR2GRAY)\n",
        "        frame = np.expand_dims(frame, axis=-1)\n",
        "        frame = frame.astype('float32') / 255\n",
        "        frame = np.expand_dims(frame, axis=0)\n",
        "        prediction = model.predict(frame)\n",
        "        predicted_class = np.argmax(prediction)\n",
        "        cv2.putText(frame, str(predicted_class), (10, 30), cv2.FONT_HERSHEY_SIMPLEX, 1, (0, 255, 0), 2)\n",
        "        cv2.imshow('Hand Gesture Recognition', frame)\n",
        "        if cv2.waitKey(1) & 0xFF == ord('q'):\n",
        "            break\n",
        "    cap.release()\n",
        "    cv2.destroyAllWindows()\n",
        "\n",
        "real_time_test()"
      ]
    }
  ]
}